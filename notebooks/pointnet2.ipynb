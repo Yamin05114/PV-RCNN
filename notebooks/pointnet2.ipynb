{
 "cells": [
  {
   "cell_type": "code",
   "execution_count": 33,
   "metadata": {},
   "outputs": [],
   "source": [
    "import numpy as np\n",
    "import torch\n",
    "import torch.nn as nn\n",
    "\n",
    "import sys\n",
    "sys.path.append('/home/jhultman/Projects/tmp/PV-RCNN/Pointnet2.PyTorch/')\n",
    "\n",
    "from pointnet2.pointnet2_modules import PointnetSAModuleMSG\n",
    "from pointnet2.pointnet2_utils import furthest_point_sample, gather_operation\n",
    "import pointnet2.pytorch_utils as pt_utils"
   ]
  },
  {
   "cell_type": "code",
   "execution_count": 34,
   "metadata": {},
   "outputs": [],
   "source": [
    "net = PointnetSAModuleMSG(\n",
    "    npoint=-1, radii=[0.1, 0.5], nsamples=[16, 32],\n",
    "    mlps=[[1, 16, 32], [1, 32, 64]], use_xyz=True,\n",
    ").cuda()"
   ]
  },
  {
   "cell_type": "code",
   "execution_count": 35,
   "metadata": {},
   "outputs": [],
   "source": [
    "points = np.fromfile('./sample.bin', dtype=np.float32).reshape(-1, 4)\n",
    "points = torch.from_numpy(points).cuda().unsqueeze(0)\n",
    "points = points[:, ::10]"
   ]
  },
  {
   "cell_type": "code",
   "execution_count": 36,
   "metadata": {},
   "outputs": [],
   "source": [
    "xyz, features = torch.split(points, [3, 1], dim=-1)\n",
    "xyz = xyz.contiguous()\n",
    "features = features.permute(0, 2, 1).contiguous()\n",
    "indices = furthest_point_sample(xyz, 2048).squeeze(0).long()\n",
    "keypoints = points[:, indices]\n",
    "keypoints_xyz, keypoints_features = torch.split(keypoints, [3, 1], dim=-1)\n",
    "_, out = net(xyz, features, keypoints_xyz.contiguous())"
   ]
  },
  {
   "cell_type": "code",
   "execution_count": 37,
   "metadata": {},
   "outputs": [
    {
     "data": {
      "text/plain": [
       "torch.Size([1, 96, 2048])"
      ]
     },
     "execution_count": 37,
     "metadata": {},
     "output_type": "execute_result"
    }
   ],
   "source": [
    "out.shape"
   ]
  }
 ],
 "metadata": {
  "kernelspec": {
   "display_name": "tmp",
   "language": "python",
   "name": "tmp"
  },
  "language_info": {
   "codemirror_mode": {
    "name": "ipython",
    "version": 3
   },
   "file_extension": ".py",
   "mimetype": "text/x-python",
   "name": "python",
   "nbconvert_exporter": "python",
   "pygments_lexer": "ipython3",
   "version": "3.6.10"
  }
 },
 "nbformat": 4,
 "nbformat_minor": 4
}
